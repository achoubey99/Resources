{
 "cells": [
  {
   "cell_type": "markdown",
   "id": "e6bdcb7d",
   "metadata": {},
   "source": [
    "### Creating a Node Class\n",
    "\n",
    "A Node consists of value and a pointer to the next node"
   ]
  },
  {
   "cell_type": "code",
   "execution_count": 1,
   "id": "d0e61079",
   "metadata": {},
   "outputs": [],
   "source": [
    "class Node:\n",
    "    def __init__(self, value):\n",
    "        self.value = value\n",
    "        self.next = None\n"
   ]
  },
  {
   "cell_type": "code",
   "execution_count": 2,
   "id": "dae38983",
   "metadata": {},
   "outputs": [
    {
     "data": {
      "text/plain": [
       "<__main__.Node at 0x1db557aeaa0>"
      ]
     },
     "execution_count": 2,
     "metadata": {},
     "output_type": "execute_result"
    }
   ],
   "source": [
    "new_node = Node(10)\n",
    "new_node"
   ]
  },
  {
   "cell_type": "code",
   "execution_count": null,
   "id": "b8ac0cff",
   "metadata": {},
   "outputs": [],
   "source": []
  }
 ],
 "metadata": {
  "kernelspec": {
   "display_name": "Python 3",
   "language": "python",
   "name": "python3"
  },
  "language_info": {
   "codemirror_mode": {
    "name": "ipython",
    "version": 3
   },
   "file_extension": ".py",
   "mimetype": "text/x-python",
   "name": "python",
   "nbconvert_exporter": "python",
   "pygments_lexer": "ipython3",
   "version": "3.10.11"
  }
 },
 "nbformat": 4,
 "nbformat_minor": 5
}
